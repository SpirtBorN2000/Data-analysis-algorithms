{
 "cells": [
  {
   "cell_type": "markdown",
   "metadata": {
    "id": "_k_P0YzGXVqV"
   },
   "source": [
    "### <caenter> Подготовительная часть для выполнения практического задания"
   ]
  },
  {
   "cell_type": "code",
   "execution_count": 3,
   "metadata": {
    "id": "gJ4jqk_9XVqX",
    "pycharm": {
     "name": "#%%\n"
    }
   },
   "outputs": [],
   "source": [
    "%matplotlib inline\n",
    "import numpy as np\n",
    "import matplotlib.pyplot as plt"
   ]
  },
  {
   "cell_type": "code",
   "execution_count": 4,
   "metadata": {
    "id": "RLIoV5ytXVqX",
    "pycharm": {
     "name": "#%%\n"
    }
   },
   "outputs": [],
   "source": [
    "y = np.array([45, 55, 50, 59, 65, 35, 75, 80, 50, 60])\n",
    "\n",
    "X = np.array(\n",
    "    [\n",
    "        [1, 1, 1, 1, 1, 1, 1, 1, 1, 1],\n",
    "        [1, 1, 2, 1, 3, 0, 5, 10, 1, 2]\n",
    "    ]\n",
    ")"
   ]
  },
  {
   "cell_type": "code",
   "execution_count": 5,
   "metadata": {
    "id": "3PUNlX0TXVqY",
    "outputId": "4d97e6d5-a11a-4eb5-9522-13810b73b293",
    "pycharm": {
     "name": "#%%\n"
    }
   },
   "outputs": [
    {
     "data": {
      "image/png": "[encoded data removed]",
      "text/plain": [
       "<Figure size 432x288 with 1 Axes>"
      ]
     },
     "metadata": {
      "needs_background": "light"
     },
     "output_type": "display_data"
    }
   ],
   "source": [
    "plt.scatter(X[1], y)\n",
    "plt.plot(X[1], 35 * X[0] + X[1] * 5, label='model1')\n",
    "plt.plot(X[1], 40 * X[0] + X[1] * 7.5, label='model2')\n",
    "plt.legend(loc='best')\n",
    "plt.show()"
   ]
  },
  {
   "cell_type": "code",
   "execution_count": 6,
   "metadata": {
    "id": "4KF2LfSkXVqZ",
    "pycharm": {
     "name": "#%%\n"
    }
   },
   "outputs": [],
   "source": [
    "y_pred1 = np.ones(10) * 35 + X[1] * 5\n",
    "y_pred2 = np.ones(10) * 40 + X[1] * 7.5"
   ]
  },
  {
   "cell_type": "code",
   "execution_count": 7,
   "metadata": {
    "id": "QM_uzbMdXVqZ",
    "outputId": "ead00a89-26b0-4c40-970e-275f347947ba",
    "pycharm": {
     "name": "#%%\n"
    }
   },
   "outputs": [
    {
     "data": {
      "text/plain": [
       "array([40., 40., 45., 40., 50., 35., 60., 85., 40., 45.])"
      ]
     },
     "execution_count": 7,
     "metadata": {},
     "output_type": "execute_result"
    }
   ],
   "source": [
    "y_pred1"
   ]
  },
  {
   "cell_type": "code",
   "execution_count": 8,
   "metadata": {
    "id": "g2m51I-_XVqZ",
    "outputId": "69c9f750-fa1b-412d-dc51-64123af168e6",
    "pycharm": {
     "name": "#%%\n"
    }
   },
   "outputs": [
    {
     "data": {
      "text/plain": [
       "array([ 47.5,  47.5,  55. ,  47.5,  62.5,  40. ,  77.5, 115. ,  47.5,\n",
       "        55. ])"
      ]
     },
     "execution_count": 8,
     "metadata": {},
     "output_type": "execute_result"
    }
   ],
   "source": [
    "y_pred2"
   ]
  },
  {
   "cell_type": "markdown",
   "metadata": {
    "id": "MzOlUrymXVqa"
   },
   "source": [
    "$\\displaystyle MAE = \\frac{1}{l} \\sum_{i=1}^{l}|y_{i}-\\hat{y_i}|$  \n",
    "$\\displaystyle MSE = \\frac{1}{l} \\sum_{i=1}^{l}(y_{i}-\\hat{y_i})^2$"
   ]
  },
  {
   "cell_type": "code",
   "execution_count": 9,
   "metadata": {
    "id": "IxuXTaBRXVqa",
    "pycharm": {
     "name": "#%%\n"
    }
   },
   "outputs": [],
   "source": [
    "mae_1 = np.mean(np.abs(y_pred1 - y))\n",
    "mae_2 = np.mean(np.abs(y_pred2 - y))"
   ]
  },
  {
   "cell_type": "code",
   "execution_count": 10,
   "metadata": {
    "id": "NKeSQkScXVqa",
    "outputId": "2d11f8a8-26f1-4d52-e476-72aebf30dbdf",
    "pycharm": {
     "name": "#%%\n"
    }
   },
   "outputs": [
    {
     "data": {
      "text/plain": [
       "(10.4, 7.9)"
      ]
     },
     "execution_count": 10,
     "metadata": {},
     "output_type": "execute_result"
    }
   ],
   "source": [
    "mae_1, mae_2"
   ]
  },
  {
   "cell_type": "code",
   "execution_count": 11,
   "metadata": {
    "id": "e9u2EphFXVqb",
    "pycharm": {
     "name": "#%%\n"
    }
   },
   "outputs": [],
   "source": [
    "mse_1 = np.mean((y_pred1 - y) ** 2)\n",
    "mse_2 = np.mean((y_pred2 - y) ** 2)"
   ]
  },
  {
   "cell_type": "code",
   "execution_count": 12,
   "metadata": {
    "id": "D1-a3xsWXVqb",
    "outputId": "4736ac37-bd88-44de-d432-262eb75fc38a",
    "pycharm": {
     "name": "#%%\n"
    }
   },
   "outputs": [
    {
     "data": {
      "text/plain": [
       "(143.6, 151.35)"
      ]
     },
     "execution_count": 12,
     "metadata": {},
     "output_type": "execute_result"
    }
   ],
   "source": [
    "mse_1, mse_2"
   ]
  },
  {
   "cell_type": "markdown",
   "metadata": {
    "id": "ZhVoY7UoXVqb",
    "pycharm": {
     "name": "#%% md\n"
    }
   },
   "source": [
    "$MAE_1>MAE_2$ но $MSE_1<MSE_2$\n",
    "Выбор метрики:\n",
    " * $MSE$ - в случае, если есть выбросы, и они имеют значение при работе модели\n",
    " * $MAE$ - в случае, если выбросы не важны, модель должна хорошо работать на большинстве моделей"
   ]
  },
  {
   "cell_type": "markdown",
   "metadata": {
    "id": "gxuoXuIsXVqc"
   },
   "source": [
    "Аналитический метод нахождения вектора весов в модели линейной регрессии:\n",
    "$w=(X^{T}\\cdot X)^{-1}\\cdot X^{T}\\cdot Y$\n",
    "\n",
    "Реализация:"
   ]
  },
  {
   "cell_type": "code",
   "execution_count": 13,
   "metadata": {
    "id": "61Tl2Q6UXVqc",
    "outputId": "4a479b68-0686-4aa8-cef3-330ffcf0cc9e",
    "pycharm": {
     "name": "#%%\n"
    }
   },
   "outputs": [
    {
     "data": {
      "text/plain": [
       "array([47.23214286,  3.91071429])"
      ]
     },
     "execution_count": 13,
     "metadata": {},
     "output_type": "execute_result"
    }
   ],
   "source": [
    "W_0 = np.linalg.inv(X @ X.T) @ X @ y\n",
    "W_0\n",
    "# отличается от классического вида, поскольку у нас изначально массив\n",
    "# Х представляет собой транспонированную матрицу\n",
    "# для приведения к классическому виду необходимо изначально\n",
    "# задавать вектор признаков и вектор значений в иной размерности\n",
    "# код ниже"
   ]
  },
  {
   "cell_type": "code",
   "execution_count": 14,
   "metadata": {
    "id": "1wK9lIP3XVqc",
    "outputId": "414770e2-d956-4adb-b789-c7191ad5f840",
    "pycharm": {
     "name": "#%%\n"
    }
   },
   "outputs": [
    {
     "data": {
      "text/plain": [
       "array([[47.23214286],\n",
       "       [ 3.91071429]])"
      ]
     },
     "execution_count": 14,
     "metadata": {},
     "output_type": "execute_result"
    }
   ],
   "source": [
    "X1 = X.swapaxes(0, 1)\n",
    "y1 = y.reshape((len(y), -1))\n",
    "W1 = np.linalg.inv(X1.T @ X1) @ X1.T @ y1\n",
    "W1"
   ]
  },
  {
   "cell_type": "code",
   "execution_count": 15,
   "metadata": {
    "id": "g8q21eT8XVqc",
    "outputId": "56a518c0-150a-438a-f4b2-b75c9f5db03c",
    "pycharm": {
     "name": "#%%\n"
    }
   },
   "outputs": [
    {
     "data": {
      "text/plain": [
       "array([[ 10,  26],\n",
       "       [ 26, 146]])"
      ]
     },
     "execution_count": 15,
     "metadata": {},
     "output_type": "execute_result"
    }
   ],
   "source": [
    "# ковариационная матрица\n",
    "np.dot(X, X.T)\n",
    "#np.dot(X1.T,X1)"
   ]
  },
  {
   "cell_type": "code",
   "execution_count": 16,
   "metadata": {
    "id": "pci-lyqMXVqd",
    "outputId": "1442731c-ada5-497d-e4ce-8041e8843741",
    "pycharm": {
     "name": "#%%\n"
    }
   },
   "outputs": [
    {
     "data": {
      "image/png": "[encoded data removed]",
      "text/plain": [
       "<Figure size 432x288 with 1 Axes>"
      ]
     },
     "metadata": {
      "needs_background": "light"
     },
     "output_type": "display_data"
    }
   ],
   "source": [
    "plt.scatter(X[1], y)\n",
    "plt.plot(X[1], y_pred1, label='model1')\n",
    "plt.plot(X[1], 40 * np.ones(10) + X[1] * 7.5, label='model2')\n",
    "plt.plot(X[1], W_0[0] + W_0[1] * X[1], label='analytic_model')\n",
    "plt.legend(loc='best')\n",
    "plt.show()"
   ]
  },
  {
   "cell_type": "code",
   "execution_count": 17,
   "metadata": {
    "id": "Fpy_A70PXVqd",
    "pycharm": {
     "name": "#%%\n"
    }
   },
   "outputs": [],
   "source": [
    "y_pred3 = W_0[0] + W_0[1] * X[1]"
   ]
  },
  {
   "cell_type": "code",
   "execution_count": 18,
   "metadata": {
    "id": "Lrxvqe5cXVqd",
    "pycharm": {
     "name": "#%%\n"
    }
   },
   "outputs": [],
   "source": [
    "def calc_mae(y, y_pred):\n",
    "    err = np.mean(np.abs(y - y_pred))\n",
    "    return err"
   ]
  },
  {
   "cell_type": "code",
   "execution_count": 19,
   "metadata": {
    "id": "XceXTJkQXVqd",
    "pycharm": {
     "name": "#%%\n"
    }
   },
   "outputs": [],
   "source": [
    "def calc_mse(y, y_pred):\n",
    "    err = np.mean((y - y_pred) ** 2)\n",
    "    return err"
   ]
  },
  {
   "cell_type": "code",
   "execution_count": 20,
   "metadata": {
    "id": "b8c6_bzDXVqe",
    "outputId": "4e4eb4f8-985f-44ba-c12d-bd3fe02ee6a2",
    "pycharm": {
     "name": "#%%\n"
    }
   },
   "outputs": [
    {
     "data": {
      "text/plain": [
       "(10.4, 7.9, 6.182142857142858)"
      ]
     },
     "execution_count": 20,
     "metadata": {},
     "output_type": "execute_result"
    }
   ],
   "source": [
    "calc_mae(y, y_pred1), calc_mae(y, y_pred2), calc_mae(y, y_pred3)"
   ]
  },
  {
   "cell_type": "code",
   "execution_count": 21,
   "metadata": {
    "id": "Pyq9VVC7XVqe",
    "outputId": "8139c946-bef4-4653-c1b9-35fe0539a8a0",
    "pycharm": {
     "name": "#%%\n"
    }
   },
   "outputs": [
    {
     "data": {
      "text/plain": [
       "(143.6, 151.35, 45.93749999999999)"
      ]
     },
     "execution_count": 21,
     "metadata": {},
     "output_type": "execute_result"
    }
   ],
   "source": [
    "calc_mse(y, y_pred1), calc_mse(y, y_pred2), calc_mse(y, y_pred3)\n"
   ]
  },
  {
   "cell_type": "markdown",
   "metadata": {
    "id": "uQzcrSAAXVqe",
    "pycharm": {
     "name": "#%% md\n"
    }
   },
   "source": [
    "Аналитическая формула имеет недостатки использования при вычислении весов линейной\n",
    "модели в следствии того, что вычисление обратной матрицы при большом количестве признаков\n",
    "имеет высокую вычислительную сложность."
   ]
  },
  {
   "cell_type": "markdown",
   "metadata": {
    "id": "6CT91Az0XVqf"
   },
   "source": [
    "## <center> Практическое задание"
   ]
  },
  {
   "cell_type": "markdown",
   "metadata": {
    "id": "O-N7TROwXVqf"
   },
   "source": [
    "**1. Подберите скорость обучения($\\alpha$) и количество итераций:**"
   ]
  },
  {
   "cell_type": "code",
   "execution_count": 30,
   "metadata": {
    "id": "-_gC2qnpXVqf",
    "pycharm": {
     "name": "#%%\n"
    }
   },
   "outputs": [
    {
     "data": {
      "text/plain": [
       "(array([1. , 0.5]), 0.01)"
      ]
     },
     "execution_count": 30,
     "metadata": {},
     "output_type": "execute_result"
    }
   ],
   "source": [
    "n = X.shape[1]\n",
    "alpha = 0.01\n",
    "\n",
    "W = np.array([1, 0.5])\n",
    "W, alpha\n",
    "# Увеличил скорость обучения"
   ]
  },
  {
   "cell_type": "code",
   "execution_count": 25,
   "metadata": {
    "id": "iS9f8iC5XVqg",
    "pycharm": {
     "name": "#%%\n"
    }
   },
   "outputs": [
    {
     "name": "stdout",
     "output_type": "stream",
     "text": [
      "0 [2.102 3.9  ] 3173.15\n",
      "100 [31.88770806  6.74418155] 175.19445858001848\n",
      "200 [41.83683774  4.90699865] 61.9177717428135\n",
      "300 [45.33508261  4.26102097] 47.913169919666764\n",
      "400 [46.56511152  4.03388672] 46.18175564810758\n",
      "500 [46.99760587  3.95402334] 45.96769776787538\n",
      "600 [47.14967657  3.92594232] 45.941233404700036\n",
      "700 [47.20314662  3.91606866] 45.93796156758049\n",
      "800 [47.2219474   3.91259695] 45.937557064435396\n",
      "900 [47.228558    3.91137626] 45.937507054979434\n"
     ]
    }
   ],
   "source": [
    "for i in range(1000):\n",
    "    y_pred = W @ X\n",
    "    err = calc_mse(y, y_pred)\n",
    "    for ii in range(W.shape[0]):\n",
    "        W[ii] -= alpha * (1 / n * 2 * np.sum(X[ii] * (y_pred - y)))\n",
    "    if i % 100 == 0:\n",
    "        print(i, W, err)"
   ]
  },
  {
   "cell_type": "markdown",
   "metadata": {
    "id": "QKhBG_ClXVqi"
   },
   "source": [
    "**2\\*. В этом коде мы избавляемся от итераций по весам, но тут есть ошибка, исправьте ее:**"
   ]
  },
  {
   "cell_type": "code",
   "execution_count": 31,
   "metadata": {
    "id": "xDHfdmYUXVqi",
    "pycharm": {
     "name": "#%%\n"
    },
    "scrolled": true
   },
   "outputs": [
    {
     "name": "stdout",
     "output_type": "stream",
     "text": [
      "0 [2.102 3.9  ] -450.20000000000005\n",
      "[3.00516  6.249896] -325.30559999999997\n",
      "100 [31.88770806  6.74418155] -13.145339231172171\n",
      "200 [41.83683774  4.90699865] -4.622074186020659\n",
      "300 [45.33508261  4.26102097] -1.6251820820582552\n",
      "400 [46.56511152  4.03388672] -0.5714353975172983\n",
      "500 [46.99760587  3.95402334] -0.20092420236515807\n",
      "600 [47.14967657  3.92594232] -0.07064759248638097\n",
      "700 [47.20314662  3.91606866] -0.024840622808875425\n",
      "800 [47.2219474   3.91259695] -0.008734289730429624\n",
      "900 [47.228558    3.91137626] -0.0030710911590816183\n"
     ]
    }
   ],
   "source": [
    "for i in range(1000):\n",
    "    y_pred = np.dot(W, X)\n",
    "    err = calc_mse(y, y_pred)\n",
    "    # for ii in range(W.shape[0]):\n",
    "    # W[ii] -= alpha * (1/n * 2 * np.sum(X[ii] * (y_pred - y)))'''\n",
    "    W = W - np.array([alpha * (1 / n * 2 * np.sum(X[0] * (y_pred - y))),alpha * (1 / n * 2 * np.sum(X[1] * (y_pred - y)))])\n",
    "    if i % 100 == 0:\n",
    "        print(i, W,1 / n * 2 * np.sum(X * (y_pred - y)) )\n",
    "    elif i==1:\n",
    "        print(W,1 / n * 2 * np.sum(X * (y_pred - y)))\n",
    " # Дополнил формулу, ошибка была в правой части уравнения ( векторной части ), не правильно считалась переменная влияющая на W"
   ]
  },
  {
   "cell_type": "code",
   "execution_count": 50,
   "metadata": {},
   "outputs": [
    {
     "data": {
      "text/plain": [
       "-161.4038461538462"
      ]
     },
     "execution_count": 50,
     "metadata": {},
     "output_type": "execute_result"
    }
   ],
   "source": [
    "az=X[0]*(y_pred-y)\n",
    "np.sum(az)"
   ]
  },
  {
   "cell_type": "code",
   "execution_count": 51,
   "metadata": {},
   "outputs": [
    {
     "data": {
      "text/plain": [
       "-3.765876499528531e-13"
      ]
     },
     "execution_count": 51,
     "metadata": {},
     "output_type": "execute_result"
    }
   ],
   "source": [
    "ab=X*(y_pred-y)\n",
    "np.sum(ab)"
   ]
  },
  {
   "cell_type": "code",
   "execution_count": 52,
   "metadata": {},
   "outputs": [
    {
     "data": {
      "text/plain": [
       "161.40384615384582"
      ]
     },
     "execution_count": 52,
     "metadata": {},
     "output_type": "execute_result"
    }
   ],
   "source": [
    "ad=X[1]*(y_pred-y)\n",
    "np.sum(ad)"
   ]
  },
  {
   "cell_type": "code",
   "execution_count": 53,
   "metadata": {},
   "outputs": [
    {
     "data": {
      "text/plain": [
       "array([1, 1, 1, 1, 1, 1, 1, 1, 1, 1])"
      ]
     },
     "execution_count": 53,
     "metadata": {},
     "output_type": "execute_result"
    }
   ],
   "source": [
    "X[0]"
   ]
  },
  {
   "cell_type": "code",
   "execution_count": 54,
   "metadata": {},
   "outputs": [
    {
     "data": {
      "text/plain": [
       "array([ 1,  1,  2,  1,  3,  0,  5, 10,  1,  2])"
      ]
     },
     "execution_count": 54,
     "metadata": {},
     "output_type": "execute_result"
    }
   ],
   "source": [
    "X[1]"
   ]
  },
  {
   "cell_type": "code",
   "execution_count": 56,
   "metadata": {},
   "outputs": [
    {
     "data": {
      "text/plain": [
       "-3.126388037344441e-13"
      ]
     },
     "execution_count": 56,
     "metadata": {},
     "output_type": "execute_result"
    }
   ],
   "source": [
    "np.sum(az+ad)"
   ]
  },
  {
   "cell_type": "code",
   "execution_count": 102,
   "metadata": {},
   "outputs": [
    {
     "data": {
      "text/plain": [
       "-3.765876499528531e-13"
      ]
     },
     "execution_count": 102,
     "metadata": {},
     "output_type": "execute_result"
    }
   ],
   "source": [
    "np.sum(X * (y_pred - y))"
   ]
  },
  {
   "cell_type": "code",
   "execution_count": 101,
   "metadata": {},
   "outputs": [
    {
     "data": {
      "text/plain": [
       "-161.4038461538462"
      ]
     },
     "execution_count": 101,
     "metadata": {},
     "output_type": "execute_result"
    }
   ],
   "source": [
    "np.sum(X[0] * (y_pred - y))"
   ]
  },
  {
   "cell_type": "code",
   "execution_count": 97,
   "metadata": {},
   "outputs": [
    {
     "data": {
      "text/plain": [
       "161.40384615384582"
      ]
     },
     "execution_count": 97,
     "metadata": {},
     "output_type": "execute_result"
    }
   ],
   "source": [
    "np.sum(X[1] * (y_pred - y))"
   ]
  },
  {
   "cell_type": "code",
   "execution_count": 98,
   "metadata": {},
   "outputs": [
    {
     "data": {
      "text/plain": [
       "array([-21.85576923, -31.85576923, -15.53365385, -35.85576923,\n",
       "       -19.21153846, -23.17788462,  -6.56730769,  45.04326923,\n",
       "       -26.85576923, -25.53365385])"
      ]
     },
     "execution_count": 98,
     "metadata": {},
     "output_type": "execute_result"
    }
   ],
   "source": [
    "y_pred - y"
   ]
  },
  {
   "cell_type": "code",
   "execution_count": 99,
   "metadata": {},
   "outputs": [
    {
     "data": {
      "text/plain": [
       "array([-21.85576923, -31.85576923, -31.06730769, -35.85576923,\n",
       "       -57.63461538,  -0.        , -32.83653846, 450.43269231,\n",
       "       -26.85576923, -51.06730769])"
      ]
     },
     "execution_count": 99,
     "metadata": {},
     "output_type": "execute_result"
    }
   ],
   "source": [
    "X[1] * (y_pred - y)"
   ]
  },
  {
   "cell_type": "code",
   "execution_count": 100,
   "metadata": {},
   "outputs": [
    {
     "data": {
      "text/plain": [
       "array([-21.85576923, -31.85576923, -15.53365385, -35.85576923,\n",
       "       -19.21153846, -23.17788462,  -6.56730769,  45.04326923,\n",
       "       -26.85576923, -25.53365385])"
      ]
     },
     "execution_count": 100,
     "metadata": {},
     "output_type": "execute_result"
    }
   ],
   "source": [
    "X[0] * (y_pred - y)"
   ]
  },
  {
   "cell_type": "code",
   "execution_count": 29,
   "metadata": {},
   "outputs": [
    {
     "data": {
      "text/plain": [
       "array([-7.95807864e-16,  1.86511111e+00])"
      ]
     },
     "execution_count": 29,
     "metadata": {},
     "output_type": "execute_result"
    }
   ],
   "source": [
    "np.array([alpha * (1 / n * 2 * np.sum(X[0] * (y_pred - y))),alpha * (1 / n * 2 * np.sum(X[1] * (y_pred - y)))])"
   ]
  },
  {
   "cell_type": "code",
   "execution_count": null,
   "metadata": {},
   "outputs": [],
   "source": []
  }
 ],
 "metadata": {
  "colab": {
   "name": "HW_Lesson1.ipynb",
   "provenance": []
  },
  "kernelspec": {
   "display_name": "Python 3",
   "language": "python",
   "name": "python3"
  },
  "language_info": {
   "codemirror_mode": {
    "name": "ipython",
    "version": 3
   },
   "file_extension": ".py",
   "mimetype": "text/x-python",
   "name": "python",
   "nbconvert_exporter": "python",
   "pygments_lexer": "ipython3",
   "version": "3.7.6"
  }
 },
 "nbformat": 4,
 "nbformat_minor": 1
}
